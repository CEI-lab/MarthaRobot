{
 "cells": [
  {
   "cell_type": "code",
   "execution_count": 1,
   "metadata": {},
   "outputs": [],
   "source": [
    "# reload library\n",
    "%load_ext autoreload\n",
    "%autoreload 2"
   ]
  },
  {
   "attachments": {},
   "cell_type": "markdown",
   "metadata": {},
   "source": [
    "# A list of tags/uses is defined in the docs"
   ]
  },
  {
   "cell_type": "code",
   "execution_count": 2,
   "metadata": {},
   "outputs": [],
   "source": [
    "import numpy as np\n",
    "from matplotlib import pyplot as plt\n",
    "from moms_apriltag import TagGenerator3\n",
    "\n",
    "from moms_apriltag import apriltags_v3\n",
    "from moms_apriltag import tags\n",
    "import importlib\n",
    "\n",
    "from ipywidgets import widgets\n",
    "\n",
    "# from opencv_camera import mosaic\n",
    "import os\n",
    "import cv2"
   ]
  },
  {
   "attachments": {},
   "cell_type": "markdown",
   "metadata": {},
   "source": [
    "Includes a list of possible tag formats"
   ]
  },
  {
   "cell_type": "code",
   "execution_count": 15,
   "metadata": {},
   "outputs": [
    {
     "data": {
      "application/vnd.jupyter.widget-view+json": {
       "model_id": "fb58d1f8fe5543da8f24010557dfe4f1",
       "version_major": 2,
       "version_minor": 0
      },
      "text/plain": [
       "GridBox(children=(VBox(children=(Dropdown(description='AprilTag Standard', index=3, options=('tagCircle21h7', …"
      ]
     },
     "metadata": {},
     "output_type": "display_data"
    }
   ],
   "source": [
    "# print(apriltags_v3)\n",
    "def myfunction(x):\n",
    "    return x\n",
    "\n",
    "\n",
    "# interact(myfunction, x=['red','green'])\n",
    "formatwidget = widgets.Dropdown(\n",
    "    options=apriltags_v3, value=\"tagStandard41h12\", description=\"AprilTag Standard\"\n",
    ")\n",
    "formatMod = importlib.import_module(\"moms_apriltag.tags.\" + str(formatwidget.value))\n",
    "numwidget = widgets.IntText(\n",
    "    min=0, max=len(formatMod.codes), description=\"AprilTag Number\"\n",
    ")\n",
    "\n",
    "format = formatwidget.value\n",
    "outputdir = os.path.join(\"_images\", format)\n",
    "outputwidget = widgets.Label(value=\"Output: \" + outputdir)\n",
    "maxtagwidget = widgets.Label(value=\"Max Tag Number: \" + str(2115))\n",
    "\n",
    "\n",
    "def generate_click(b):\n",
    "    format = formatwidget.value\n",
    "    tagnum = numwidget.value\n",
    "    tg = TagGenerator3(format)\n",
    "    im = tg.generate(tagnum)\n",
    "    print(f\"Max tags: {len(tg.codes)}\")\n",
    "    plt.imshow(im, cmap=\"gray\")\n",
    "    plt.title(f\"{im.shape}  {tg.template.numBits}\")\n",
    "    plt.axis(\"off\")\n",
    "\n",
    "\n",
    "generatebutton = widgets.Button(description=\"Generate Image\")\n",
    "savebutton = widgets.Button(description=\"Save Image\")\n",
    "\n",
    "left = widgets.VBox([formatwidget, numwidget])\n",
    "right = widgets.VBox([outputwidget, maxtagwidget])\n",
    "\n",
    "layout = widgets.Layout(grid_template_columns=\"1fr 1fr\")\n",
    "grid = widgets.GridBox([left, right, generatebutton, savebutton], layout=layout)\n",
    "\n",
    "display(grid)"
   ]
  },
  {
   "attachments": {},
   "cell_type": "markdown",
   "metadata": {},
   "source": [
    "Generate and display a single AprilTag"
   ]
  },
  {
   "cell_type": "code",
   "execution_count": 16,
   "metadata": {},
   "outputs": [
    {
     "name": "stdout",
     "output_type": "stream",
     "text": [
      "Max tags: 2115\n"
     ]
    },
    {
     "data": {
      "image/png": "[encoded data removed]",
      "text/plain": [
       "<Figure size 640x480 with 1 Axes>"
      ]
     },
     "metadata": {},
     "output_type": "display_data"
    }
   ],
   "source": [
    "format = \"tagStandard41h12\"\n",
    "tagnum = 0\n",
    "tg = TagGenerator3(format)\n",
    "im = tg.generate(tagnum)\n",
    "print(f\"Max tags: {len(tg.codes)}\")\n",
    "plt.imshow(im, cmap=\"gray\")\n",
    "plt.title(f\"{im.shape}  {tg.template.numBits}\")\n",
    "plt.axis(\"off\");"
   ]
  },
  {
   "attachments": {},
   "cell_type": "markdown",
   "metadata": {},
   "source": [
    "Write the individual tag to a png file."
   ]
  },
  {
   "cell_type": "code",
   "execution_count": 30,
   "metadata": {},
   "outputs": [
    {
     "data": {
      "text/plain": [
       "True"
      ]
     },
     "execution_count": 30,
     "metadata": {},
     "output_type": "execute_result"
    }
   ],
   "source": [
    "png = tg.toRGBA(im)\n",
    "outputdir = os.path.join(\"_images\", format)\n",
    "if not os.path.exists(outputdir):\n",
    "    os.mkdir(outputdir)\n",
    "outputfile = os.path.join(outputdir, str(tagnum) + \".png\")\n",
    "cv2.imwrite(outputfile, png)"
   ]
  },
  {
   "cell_type": "code",
   "execution_count": null,
   "metadata": {},
   "outputs": [],
   "source": [
    "papersize = [8.5, 11]\n",
    "tagcount = [4, 4]\n",
    "dpi = 300"
   ]
  }
 ],
 "metadata": {
  "kernelspec": {
   "display_name": ".venv",
   "language": "python",
   "name": "python3"
  },
  "language_info": {
   "codemirror_mode": {
    "name": "ipython",
    "version": 3
   },
   "file_extension": ".py",
   "mimetype": "text/x-python",
   "name": "python",
   "nbconvert_exporter": "python",
   "pygments_lexer": "ipython3",
   "version": "3.8.0"
  },
  "orig_nbformat": 4
 },
 "nbformat": 4,
 "nbformat_minor": 2
}
