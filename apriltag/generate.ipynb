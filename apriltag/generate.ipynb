{
 "cells": [
  {
   "cell_type": "code",
   "execution_count": 1,
   "metadata": {},
   "outputs": [],
   "source": [
    "# reload library\n",
    "%load_ext autoreload\n",
    "%autoreload 2"
   ]
  },
  {
   "attachments": {},
   "cell_type": "markdown",
   "metadata": {},
   "source": [
    "# A list of tags/uses is defined in the docs"
   ]
  },
  {
   "cell_type": "code",
   "execution_count": 46,
   "metadata": {},
   "outputs": [],
   "source": [
    "import numpy as np\n",
    "from matplotlib import pyplot as plt\n",
    "from moms_apriltag import TagGenerator3\n",
    "from IPython.display import display, clear_output\n",
    "\n",
    "\n",
    "from moms_apriltag import apriltags_v3\n",
    "from moms_apriltag import tags \n",
    "import importlib\n",
    "\n",
    "from ipywidgets import  widgets\n",
    "# from opencv_camera import mosaic\n",
    "import os\n",
    "import cv2"
   ]
  },
  {
   "attachments": {},
   "cell_type": "markdown",
   "metadata": {},
   "source": [
    "Includes a list of possible tag formats"
   ]
  },
  {
   "cell_type": "code",
   "execution_count": 64,
   "metadata": {},
   "outputs": [
    {
     "data": {
      "application/vnd.jupyter.widget-view+json": {
       "model_id": "3f3944484b714121900ea5e5fa3a34d7",
       "version_major": 2,
       "version_minor": 0
      },
      "text/plain": [
       "GridBox(children=(VBox(children=(Dropdown(description='AprilTag Standard', index=3, options=('tagCircle21h7', …"
      ]
     },
     "metadata": {},
     "output_type": "display_data"
    },
    {
     "data": {
      "application/vnd.jupyter.widget-view+json": {
       "model_id": "6977aaa2f86949d6a7dccf161cb3f9eb",
       "version_major": 2,
       "version_minor": 0
      },
      "text/plain": [
       "Output(layout=Layout(height='200px', width='200px'))"
      ]
     },
     "metadata": {},
     "output_type": "display_data"
    }
   ],
   "source": [
    "\n",
    "formatwidget = widgets.Dropdown(options = apriltags_v3, value=\"tagStandard41h12\",description=\"AprilTag Standard\")\n",
    "formatMod = importlib.import_module(\"moms_apriltag.tags.\"+str(formatwidget.value))\n",
    "numwidget = widgets.IntText(min=0, max=len(formatMod.codes),description=\"AprilTag Number\")\n",
    "\n",
    "format = formatwidget.value\n",
    "tagnum = numwidget.value\n",
    "outputdir = os.path.join(\"_images\",format)\n",
    "outputwidget = widgets.Label(value=\"Output: \"+os.path.join(outputdir,str(tagnum)+\".png\"))\n",
    "maxtagwidget  = widgets.Label(value=\"Max Tag Number: \"+str(2115))\n",
    "livewidget = widgets.Checkbox(description=\"Live Update\", value=True)\n",
    "\n",
    "out = widgets.Output(layout=widgets.Layout(width='200px',height='200px'))\n",
    "def update():\n",
    "    pass\n",
    "n=10\n",
    "\n",
    "def generate_click(b):\n",
    "\n",
    "    format = formatwidget.value\n",
    "    tagnum = numwidget.value\n",
    "\n",
    "    tg = TagGenerator3(format)\n",
    "    im = tg.generate(tagnum)\n",
    "    \n",
    "    outputdir = os.path.join(\"_images\",format)\n",
    "    outputwidget.value = \"Output: \"+os.path.join(outputdir,str(tagnum)+\".png\")\n",
    "    maxtagwidget.value = \"Max Tag Number: \"+str(len(tg.codes))\n",
    "    with out:\n",
    "        clear_output()\n",
    "\n",
    "        \n",
    "\n",
    "        fig, ax = plt.subplots(figsize = (5,5))\n",
    "        h = ax.imshow(im, cmap=\"gray\")\n",
    "\n",
    "        plt.title(f\"AprilTag: {tagnum} | {format}\")\n",
    "        plt.axis(\"off\");\n",
    "\n",
    "        fig.canvas.flush_events()\n",
    "        fig.canvas.draw()\n",
    "        plt.show()\n",
    "\n",
    "        \n",
    "        # plt.imshow(im, cmap=\"gray\");\n",
    "        \n",
    "def value_changed(change):\n",
    "    if livewidget.value:\n",
    "        generate_click(change)\n",
    "\n",
    "def save(b):\n",
    "    format = formatwidget.value\n",
    "    tagnum = numwidget.value\n",
    "\n",
    "    tg = TagGenerator3(format)\n",
    "    im = tg.generate(tagnum)\n",
    "    \n",
    "    png = tg.toRGBA(im)\n",
    "    outputdir = os.path.join(\"_images\",format)\n",
    "    if not os.path.exists(outputdir):\n",
    "        os.mkdir(outputdir)\n",
    "    outputfile = os.path.join(outputdir,str(tagnum)+\".png\")\n",
    "    cv2.imwrite(outputfile, png)\n",
    "\n",
    "\n",
    "generatebutton = widgets.Button(description=\"Generate Image\")\n",
    "savebutton = widgets.Button(description=\"Save Image\")\n",
    "\n",
    "generatebutton.on_click(generate_click)\n",
    "formatwidget.observe(value_changed,names=\"value\")\n",
    "numwidget.observe(value_changed,names=\"value\")\n",
    "savebutton.on_click(save)\n",
    "\n",
    "left = widgets.VBox([formatwidget,numwidget,livewidget])\n",
    "right = widgets.VBox([outputwidget,maxtagwidget])\n",
    "\n",
    "layout = widgets.Layout(grid_template_columns='1fr 1fr')\n",
    "grid = widgets.GridBox([left,right,generatebutton,savebutton],layout = layout)\n",
    "\n",
    "display(grid,out)\n",
    "\n",
    "im = None\n"
   ]
  },
  {
   "attachments": {},
   "cell_type": "markdown",
   "metadata": {},
   "source": [
    "Generate and display a single AprilTag"
   ]
  },
  {
   "cell_type": "code",
   "execution_count": 111,
   "metadata": {},
   "outputs": [
    {
     "name": "stdout",
     "output_type": "stream",
     "text": [
      "Max tags: 2115\n"
     ]
    },
    {
     "data": {
      "image/png": "[encoded data removed]",
      "text/plain": [
       "<Figure size 640x480 with 1 Axes>"
      ]
     },
     "metadata": {},
     "output_type": "display_data"
    }
   ],
   "source": [
    "format = \"tagStandard41h12\"\n",
    "tagnum = 0\n",
    "tg = TagGenerator3(format)\n",
    "im = tg.generate(tagnum)\n",
    "print(f\"Max tags: {len(tg.codes)}\")\n",
    "plt.imshow(im, cmap=\"gray\");\n",
    "plt.title(f\"AprilTag: {tagnum} | {format}\")\n",
    "plt.axis(\"off\");"
   ]
  },
  {
   "attachments": {},
   "cell_type": "markdown",
   "metadata": {},
   "source": [
    "Write the individual tag to a png file."
   ]
  },
  {
   "cell_type": "code",
   "execution_count": 112,
   "metadata": {},
   "outputs": [
    {
     "data": {
      "text/plain": [
       "True"
      ]
     },
     "execution_count": 112,
     "metadata": {},
     "output_type": "execute_result"
    }
   ],
   "source": [
    "png = tg.toRGBA(im)\n",
    "outputdir = os.path.join(\"_images\",format)\n",
    "if not os.path.exists(outputdir):\n",
    "    os.mkdir(outputdir)\n",
    "outputfile = os.path.join(outputdir,str(tagnum)+\".png\")\n",
    "cv2.imwrite(outputfile, png)"
   ]
  },
  {
   "attachments": {},
   "cell_type": "markdown",
   "metadata": {},
   "source": [
    "Create and save many images"
   ]
  },
  {
   "cell_type": "code",
   "execution_count": 124,
   "metadata": {},
   "outputs": [],
   "source": [
    "format = \"tagStandard41h12\"\n",
    "tg = TagGenerator3(format)\n",
    "outputdir = os.path.join(\"_images\",format)\n",
    "if not os.path.exists(outputdir):\n",
    "    os.mkdir(outputdir)\n",
    "\n",
    "taglist =range(2000,2115) \n",
    "for i in taglist:\n",
    "    im = tg.generate(i)\n",
    "    png = tg.toRGBA(im)\n",
    "    outputfile = os.path.join(outputdir,str(i)+\".png\")\n",
    "    cv2.imwrite(outputfile, png)"
   ]
  },
  {
   "attachments": {},
   "cell_type": "markdown",
   "metadata": {},
   "source": [
    "Combine generated images into a pdf file for printing"
   ]
  },
  {
   "cell_type": "code",
   "execution_count": 120,
   "metadata": {},
   "outputs": [
    {
     "name": "stdout",
     "output_type": "stream",
     "text": [
      "0\n"
     ]
    }
   ],
   "source": [
    "from PIL import Image, ImageDraw, ImageFont\n",
    "\n",
    "dpi = 300\n",
    "targetsize = 8\n",
    "width = dpi*targetsize\n",
    "targetfontheight = 0.25\n",
    "fontheight = int(dpi*targetfontheight)\n",
    "\n",
    "format = \"tagStandard41h12\"\n",
    "fnt = ImageFont.truetype(\"arial.ttf\",fontheight)\n",
    "\n",
    "imagelist = range(0,100)\n",
    "\n",
    "images = [Image.open(os.path.join(\"_images\",format,f)).convert(\"L\") for f in [str(n)+\".png\" for n in imagelist]]\n",
    "\n",
    "images = [i.resize((width,width),resample=Image.NEAREST) for i in images]\n",
    "\n",
    "for i in range(len(imagelist)):\n",
    "    canvas = Image.new('L',(width,fontheight),color = (255))\n",
    "    label = ImageDraw.Draw(canvas)\n",
    "    label.text((width/2,fontheight/2),format + \"   |   Tag \" + str(imagelist[i]),fill=(0),anchor=\"mm\",font=fnt)\n",
    "    res = Image.new('L',(width,width+fontheight))\n",
    "    res.paste(images[i], (0,0))\n",
    "    res.paste(canvas,(0,width))\n",
    "    images[i] = res\n",
    "\n",
    "\n",
    "pdf_path = \"output.pdf\"\n",
    "\n",
    "images[0].save(\n",
    "    pdf_path, \"PDF\" ,resolution=dpi, save_all=True, append_images=images[1:]\n",
    ")\n",
    "\n"
   ]
  },
  {
   "attachments": {},
   "cell_type": "markdown",
   "metadata": {},
   "source": [
    "Make a calibration page with a grid of april tags"
   ]
  },
  {
   "cell_type": "code",
   "execution_count": 163,
   "metadata": {},
   "outputs": [
    {
     "name": "stdout",
     "output_type": "stream",
     "text": [
      "337 300\n"
     ]
    }
   ],
   "source": [
    "from PIL import Image, ImageDraw, ImageFont\n",
    "\n",
    "\n",
    "dpi = 300\n",
    "\n",
    "\n",
    "\n",
    "margin = int(0.25 * dpi)\n",
    "paperwidth=int(11   * dpi)\n",
    "paperheight=int(8.5 * dpi)\n",
    "\n",
    "rowcount = 5\n",
    "colcount = 9\n",
    "\n",
    "targetspacing = 0.25\n",
    "spacing = int(targetspacing*dpi)\n",
    "\n",
    "targetsize = 0.75\n",
    "size = int(targetsize * dpi)\n",
    "\n",
    "targetfontheight = 0.25\n",
    "fontheight = int(dpi*targetfontheight)\n",
    "\n",
    "format = \"tagStandard41h12\"\n",
    "fnt = ImageFont.truetype(\"arial.ttf\",fontheight)\n",
    "\n",
    "imagelist = range(2000,2115)[0:rowcount*colcount]\n",
    "\n",
    "images = [Image.open(os.path.join(\"_images\",format,f)).convert(\"L\") for f in [str(n)+\".png\" for n in imagelist]]\n",
    "\n",
    "images = [i.resize((size,size),resample=Image.NEAREST) for i in images]\n",
    "\n",
    "for i in range(len(imagelist)):\n",
    "    canvas = Image.new('L',(size,fontheight),color = (255))\n",
    "    label = ImageDraw.Draw(canvas)\n",
    "    label.text((width/2,fontheight/2),str(imagelist[i]),fill=(0),anchor=\"mm\",font=fnt)\n",
    "    res = Image.new('L',(size,size+fontheight))\n",
    "    res.paste(images[i], (0,0))\n",
    "    res.paste(canvas,(0,size))\n",
    "    images[i] = res\n",
    "\n",
    "\n",
    "calibratepage = Image.new('L',(paperwidth,paperheight),color = (255))\n",
    "\n",
    "canvas = Image.new('L',(paperwidth,fontheight),color = (255))\n",
    "label = ImageDraw.Draw(canvas)\n",
    "label.text((paperwidth/2,fontheight/2),\"AprilTag \" + format,fill=(0),anchor=\"mm\",font=fnt)\n",
    "\n",
    "topmargin = margin + int((paperheight - 2*margin - (rowcount * (size+fontheight+spacing)))/2)\n",
    "leftmargin = margin + int((paperwidth - 2*margin - (colcount * (size+spacing)))/2)\n",
    "\n",
    "calibratepage.paste(canvas,(margin,margin))\n",
    "\n",
    "i = -1\n",
    "# print(len(images), \"images are available\")\n",
    "for row in range(rowcount):\n",
    "    top = topmargin + row*(size+fontheight+spacing)\n",
    "    for col in range(colcount):\n",
    "        i += 1\n",
    "        # print(\"Pasting image \", i, \" to \", top, \",\", left)\n",
    "        left = leftmargin + col*(size+spacing)\n",
    "        calibratepage.paste(images[i],(left,top))\n",
    "\n",
    "\n",
    "\n",
    "pdf_path = \"calibration.pdf\"\n",
    "\n",
    "calibratepage.save(\n",
    "    pdf_path, \"PDF\" ,resolution=dpi)\n",
    "\n"
   ]
  }
 ],
 "metadata": {
  "kernelspec": {
   "display_name": ".venv",
   "language": "python",
   "name": "python3"
  },
  "language_info": {
   "codemirror_mode": {
    "name": "ipython",
    "version": 3
   },
   "file_extension": ".py",
   "mimetype": "text/x-python",
   "name": "python",
   "nbconvert_exporter": "python",
   "pygments_lexer": "ipython3",
   "version": "3.8.0"
  },
  "orig_nbformat": 4
 },
 "nbformat": 4,
 "nbformat_minor": 2
}
